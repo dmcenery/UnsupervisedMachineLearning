{
 "cells": [
  {
   "cell_type": "markdown",
   "metadata": {},
   "source": [
    "## Natural Language Processing with Disaster Tweets\n",
    "\n",
    "This project comes form Kaggle with the link below:\n",
    "\n",
    "https://www.kaggle.com/competitions/nlp-getting-started/overview\n",
    "\n",
    "The goal is to classify tweets as disaster tweets and not which would be quite useful for disaster agencies responding to a crisis.\n",
    "\n",
    "This project will leverage skills that we have learned over the past few weeks such as NMF and truncated SVD as well as Support Vector Machines.\n",
    "\n",
    "My Github repository is here: https://github.com/dmcenery/UnsupervisedMachineLearning.git\n"
   ]
  },
  {
   "cell_type": "code",
   "execution_count": 1,
   "metadata": {},
   "outputs": [
    {
     "name": "stdout",
     "output_type": "stream",
     "text": [
      "Collecting nltk\n",
      "  Downloading nltk-3.8.1-py3-none-any.whl.metadata (2.8 kB)\n",
      "Requirement already satisfied: click in /opt/conda/lib/python3.7/site-packages (from nltk) (7.1.2)\n",
      "Requirement already satisfied: joblib in /opt/conda/lib/python3.7/site-packages (from nltk) (0.14.1)\n",
      "Collecting regex>=2021.8.3 (from nltk)\n",
      "  Downloading regex-2024.4.16-cp37-cp37m-manylinux_2_17_x86_64.manylinux2014_x86_64.whl.metadata (40 kB)\n",
      "\u001b[2K     \u001b[90m━━━━━━━━━━━━━━━━━━━━━━━━━━━━━━━━━━━━━━━━\u001b[0m \u001b[32m40.9/40.9 kB\u001b[0m \u001b[31m16.7 MB/s\u001b[0m eta \u001b[36m0:00:00\u001b[0m\n",
      "\u001b[?25hRequirement already satisfied: tqdm in /opt/conda/lib/python3.7/site-packages (from nltk) (4.45.0)\n",
      "Downloading nltk-3.8.1-py3-none-any.whl (1.5 MB)\n",
      "\u001b[2K   \u001b[90m━━━━━━━━━━━━━━━━━━━━━━━━━━━━━━━━━━━━━━━━\u001b[0m \u001b[32m1.5/1.5 MB\u001b[0m \u001b[31m130.7 MB/s\u001b[0m eta \u001b[36m0:00:00\u001b[0m\n",
      "\u001b[?25hDownloading regex-2024.4.16-cp37-cp37m-manylinux_2_17_x86_64.manylinux2014_x86_64.whl (761 kB)\n",
      "\u001b[2K   \u001b[90m━━━━━━━━━━━━━━━━━━━━━━━━━━━━━━━━━━━━━━━\u001b[0m \u001b[32m761.6/761.6 kB\u001b[0m \u001b[31m120.1 MB/s\u001b[0m eta \u001b[36m0:00:00\u001b[0m\n",
      "\u001b[?25hInstalling collected packages: regex, nltk\n",
      "Successfully installed nltk-3.8.1 regex-2024.4.16\n"
     ]
    },
    {
     "name": "stderr",
     "output_type": "stream",
     "text": [
      "[nltk_data] Downloading package punkt to /home/jovyan/nltk_data...\n",
      "[nltk_data]   Unzipping tokenizers/punkt.zip.\n",
      "[nltk_data] Downloading package stopwords to /home/jovyan/nltk_data...\n",
      "[nltk_data]   Unzipping corpora/stopwords.zip.\n"
     ]
    },
    {
     "data": {
      "text/plain": [
       "True"
      ]
     },
     "execution_count": 1,
     "metadata": {},
     "output_type": "execute_result"
    }
   ],
   "source": [
    "# Import libraries\n",
    "\n",
    "import numpy as np \n",
    "import pandas as pd \n",
    "\n",
    "import matplotlib.pyplot as plt\n",
    "import seaborn as sns\n",
    "\n",
    "import scipy as sp\n",
    "import scipy.stats as stats\n",
    "\n",
    "import statsmodels.formula.api as smf\n",
    "import statsmodels.api as sm\n",
    "\n",
    "from sklearn.model_selection import train_test_split\n",
    "from sklearn.metrics import mean_squared_error, r2_score\n",
    "from sklearn.linear_model import LogisticRegression\n",
    "from sklearn.ensemble import RandomForestClassifier\n",
    "from sklearn.neighbors import KNeighborsRegressor\n",
    "from sklearn.model_selection import cross_val_score,GridSearchCV\n",
    "from sklearn.svm import SVC\n",
    "\n",
    "from sklearn.cluster import KMeans\n",
    "from sklearn.metrics import confusion_matrix, adjusted_rand_score, adjusted_mutual_info_score\n",
    "from scipy.optimize import linear_sum_assignment\n",
    "from sklearn.preprocessing import LabelEncoder\n",
    "\n",
    "from sklearn.metrics import roc_auc_score\n",
    "from sklearn.metrics import roc_curve\n",
    "\n",
    "from sklearn.feature_extraction.text import TfidfVectorizer\n",
    "from sklearn.decomposition import TruncatedSVD\n",
    "from sklearn.decomposition import NMF\n",
    "\n",
    "import re\n",
    "from sklearn.pipeline import make_pipeline\n",
    "from sklearn.pipeline import Pipeline\n",
    "from sklearn.metrics import classification_report, accuracy_score, make_scorer\n",
    "\n",
    "\n",
    "!pip install nltk\n",
    "import nltk\n",
    "from nltk.stem.porter import PorterStemmer\n",
    "from nltk.tokenize import word_tokenize\n",
    "from nltk.corpus import stopwords\n",
    "\n",
    "nltk.download('punkt')\n",
    "nltk.download('stopwords')"
   ]
  },
  {
   "cell_type": "code",
   "execution_count": 2,
   "metadata": {},
   "outputs": [],
   "source": [
    "# Import test and train data\n",
    "train = pd.read_csv('data/train (1).csv')\n",
    "test = pd.read_csv('data/test (1).csv')"
   ]
  },
  {
   "cell_type": "markdown",
   "metadata": {},
   "source": [
    "### Exploratory Data Analysis and preprocessing \n",
    "\n",
    "We will start by exploring the size of our test and train sets and then some preprocessing for further data exploration."
   ]
  },
  {
   "cell_type": "code",
   "execution_count": 35,
   "metadata": {},
   "outputs": [
    {
     "name": "stdout",
     "output_type": "stream",
     "text": [
      "Train set:  (7613, 6)\n",
      "Test set: (3263, 4)\n"
     ]
    },
    {
     "data": {
      "text/html": [
       "<div>\n",
       "<style scoped>\n",
       "    .dataframe tbody tr th:only-of-type {\n",
       "        vertical-align: middle;\n",
       "    }\n",
       "\n",
       "    .dataframe tbody tr th {\n",
       "        vertical-align: top;\n",
       "    }\n",
       "\n",
       "    .dataframe thead th {\n",
       "        text-align: right;\n",
       "    }\n",
       "</style>\n",
       "<table border=\"1\" class=\"dataframe\">\n",
       "  <thead>\n",
       "    <tr style=\"text-align: right;\">\n",
       "      <th></th>\n",
       "      <th>id</th>\n",
       "      <th>keyword</th>\n",
       "      <th>location</th>\n",
       "      <th>text</th>\n",
       "      <th>target</th>\n",
       "      <th>tweet_length</th>\n",
       "    </tr>\n",
       "  </thead>\n",
       "  <tbody>\n",
       "    <tr>\n",
       "      <th>0</th>\n",
       "      <td>1</td>\n",
       "      <td></td>\n",
       "      <td></td>\n",
       "      <td>deed reason earthquak may allah forgiv us</td>\n",
       "      <td>1</td>\n",
       "      <td>69</td>\n",
       "    </tr>\n",
       "    <tr>\n",
       "      <th>1</th>\n",
       "      <td>4</td>\n",
       "      <td></td>\n",
       "      <td></td>\n",
       "      <td>forest fire near la rong sask canada</td>\n",
       "      <td>1</td>\n",
       "      <td>38</td>\n",
       "    </tr>\n",
       "    <tr>\n",
       "      <th>2</th>\n",
       "      <td>5</td>\n",
       "      <td></td>\n",
       "      <td></td>\n",
       "      <td>resid ask shelter place notifi offic evacu she...</td>\n",
       "      <td>1</td>\n",
       "      <td>133</td>\n",
       "    </tr>\n",
       "    <tr>\n",
       "      <th>3</th>\n",
       "      <td>6</td>\n",
       "      <td></td>\n",
       "      <td></td>\n",
       "      <td>peopl receiv wildfir evacu order california</td>\n",
       "      <td>1</td>\n",
       "      <td>65</td>\n",
       "    </tr>\n",
       "    <tr>\n",
       "      <th>4</th>\n",
       "      <td>7</td>\n",
       "      <td></td>\n",
       "      <td></td>\n",
       "      <td>got sent photo rubi alaska smoke wildfir pour ...</td>\n",
       "      <td>1</td>\n",
       "      <td>88</td>\n",
       "    </tr>\n",
       "  </tbody>\n",
       "</table>\n",
       "</div>"
      ],
      "text/plain": [
       "   id keyword location                                               text  \\\n",
       "0   1                           deed reason earthquak may allah forgiv us   \n",
       "1   4                                forest fire near la rong sask canada   \n",
       "2   5                   resid ask shelter place notifi offic evacu she...   \n",
       "3   6                         peopl receiv wildfir evacu order california   \n",
       "4   7                   got sent photo rubi alaska smoke wildfir pour ...   \n",
       "\n",
       "   target  tweet_length  \n",
       "0       1            69  \n",
       "1       1            38  \n",
       "2       1           133  \n",
       "3       1            65  \n",
       "4       1            88  "
      ]
     },
     "execution_count": 35,
     "metadata": {},
     "output_type": "execute_result"
    }
   ],
   "source": [
    "print('Train set: ', train.shape)\n",
    "print('Test set:',test.shape)\n",
    "\n",
    "train.head()"
   ]
  },
  {
   "cell_type": "markdown",
   "metadata": {},
   "source": [
    "The next thing to look at is the distribution of location, some keywords and the length of the tweets. This may be useful when it comes to a Supervised approach."
   ]
  },
  {
   "cell_type": "code",
   "execution_count": 4,
   "metadata": {},
   "outputs": [
    {
     "name": "stdout",
     "output_type": "stream",
     "text": [
      "                         61\n",
      "fatalities               45\n",
      "deluge                   42\n",
      "armageddon               42\n",
      "body%20bags              41\n",
      "                         ..\n",
      "forest%20fire            19\n",
      "epicentre                12\n",
      "threat                   11\n",
      "inundation               10\n",
      "radiation%20emergency     9\n",
      "Name: keyword, Length: 222, dtype: int64\n",
      "                                         2533\n",
      "USA                                       104\n",
      "New York                                   71\n",
      "United States                              50\n",
      "London                                     45\n",
      "                                         ... \n",
      "The Shady Hyenatown of Finland              1\n",
      "Copenhagen, Capital Region of Denmark       1\n",
      "Westchester                                 1\n",
      "Rockford, IL                                1\n",
      "nearest trash can                           1\n",
      "Name: location, Length: 3342, dtype: int64\n",
      "0    4342\n",
      "1    3271\n",
      "Name: target, dtype: int64\n"
     ]
    },
    {
     "data": {
      "image/png": "[encoded data removed]",
      "text/plain": [
       "<Figure size 720x432 with 1 Axes>"
      ]
     },
     "metadata": {
      "needs_background": "light"
     },
     "output_type": "display_data"
    }
   ],
   "source": [
    "train['tweet_length'] = train['text'].str.len()\n",
    "\n",
    "train['keyword'] = train['keyword'].fillna(\" \")\n",
    "\n",
    "train['location'] = train['location'].fillna(\" \")\n",
    "\n",
    "print(train['keyword'].value_counts())\n",
    "print(train['location'].value_counts())\n",
    "print(train['target'].value_counts())\n",
    "\n",
    "def plot_histogram(data, title, color):\n",
    "    plt.figure(figsize=(10, 6))\n",
    "    plt.hist(data, color=color, edgecolor='black', alpha=0.75)\n",
    "    plt.title(title, fontsize=18)\n",
    "    plt.xlabel(\"Category\", fontsize=14)\n",
    "    plt.ylabel(\"Frequency\", fontsize=14)\n",
    "    plt.grid(True, linestyle='--', alpha=0.6)\n",
    "    plt.xticks(fontsize=12)\n",
    "    plt.yticks(fontsize=12)\n",
    "    plt.tight_layout()\n",
    "    plt.show()\n",
    "    \n",
    "plot_histogram(train['tweet_length'], title=\"Tweet Length\", color='cornflowerblue')"
   ]
  },
  {
   "cell_type": "markdown",
   "metadata": {},
   "source": [
    "The Keyword column appears like it could be useful and maybe the tweet length also but the location field is too sparsely populated and many locations are in different formats etc.\n",
    "\n",
    "The next step is to clean the text for easy comparison and then vectorization."
   ]
  },
  {
   "cell_type": "code",
   "execution_count": 5,
   "metadata": {},
   "outputs": [],
   "source": [
    "stop_words = set(stopwords.words('english'))\n",
    "stemmer = PorterStemmer()\n",
    "\n",
    "def clean_text(text_list):\n",
    "    cleaned = []\n",
    "    for text in text_list:\n",
    "        text = text.lower()\n",
    "        text = re.sub(r'[^\\w\\s]', '', text)\n",
    "        text = re.sub(r'\\d+', '', text)\n",
    "        \n",
    "        tokens = word_tokenize(text)\n",
    "        tokens = [stemmer.stem(word) for word in tokens if word not in stop_words]\n",
    "        \n",
    "        cleaned_text = ' '.join(tokens)\n",
    "        cleaned.append(cleaned_text)\n",
    "    return cleaned\n",
    "\n",
    "train['text']= clean_text(train['text'])\n",
    "\n",
    "test['text']= clean_text(test['text'])"
   ]
  },
  {
   "cell_type": "code",
   "execution_count": 6,
   "metadata": {},
   "outputs": [],
   "source": [
    "vectorizer = TfidfVectorizer(stop_words='english', max_features=10000)\n",
    "X_tfidf = vectorizer.fit_transform(train['text']) \n",
    "\n",
    "X_test_tfidf = vectorizer.transform(test['text'])\n",
    "\n",
    "label_encoder = LabelEncoder()\n",
    "true_train_labels = label_encoder.fit_transform(train['target'])\n"
   ]
  },
  {
   "cell_type": "code",
   "execution_count": 7,
   "metadata": {},
   "outputs": [
    {
     "data": {
      "image/png": "[encoded data removed]",
      "text/plain": [
       "<Figure size 864x432 with 1 Axes>"
      ]
     },
     "metadata": {
      "needs_background": "light"
     },
     "output_type": "display_data"
    }
   ],
   "source": [
    "tfidf_scores = np.asarray(X_tfidf.sum(axis=0)).flatten()\n",
    "\n",
    "feature_names = vectorizer.get_feature_names()\n",
    "\n",
    "top_n = 15\n",
    "top_indices = tfidf_scores.argsort()[::-1][:top_n]\n",
    "top_words = [feature_names[i] for i in top_indices]\n",
    "top_scores = tfidf_scores[top_indices]\n",
    "\n",
    "plt.figure(figsize=(12, 6))\n",
    "plt.barh(top_words[::-1], top_scores[::-1], color='steelblue')\n",
    "plt.xlabel(\"Total TF-IDF Score Across Documents\")\n",
    "plt.title(f\"Top {top_n} Most Important Words (TF-IDF)\")\n",
    "plt.tight_layout()\n",
    "plt.show()"
   ]
  },
  {
   "cell_type": "markdown",
   "metadata": {},
   "source": [
    "### Model build and train\n",
    "\n",
    "#### Truncated SVD and Logistic Regression\n",
    "\n",
    "Truncated SVD is a method of reducing the dimensionality of the word martrix which I paired with Logistic regression which is useful for binary classification. \n",
    "\n",
    "Grid Search was chosen to optimize my hyperparameters and I also chose to exclude vectorization from the pipeline as we did not need to re vectorize each iteration in gridsearch, further, it will be used for the next method. "
   ]
  },
  {
   "cell_type": "code",
   "execution_count": 9,
   "metadata": {},
   "outputs": [
    {
     "name": "stdout",
     "output_type": "stream",
     "text": [
      "Fitting 5 folds for each of 12 candidates, totalling 60 fits\n",
      "[CV] clf__C=0.01, svd__n_components=10 ...............................\n"
     ]
    },
    {
     "name": "stderr",
     "output_type": "stream",
     "text": [
      "[Parallel(n_jobs=1)]: Using backend SequentialBackend with 1 concurrent workers.\n"
     ]
    },
    {
     "name": "stdout",
     "output_type": "stream",
     "text": [
      "[CV] ................ clf__C=0.01, svd__n_components=10, total=   1.1s\n",
      "[CV] clf__C=0.01, svd__n_components=10 ...............................\n"
     ]
    },
    {
     "name": "stderr",
     "output_type": "stream",
     "text": [
      "[Parallel(n_jobs=1)]: Done   1 out of   1 | elapsed:    1.1s remaining:    0.0s\n"
     ]
    },
    {
     "name": "stdout",
     "output_type": "stream",
     "text": [
      "[CV] ................ clf__C=0.01, svd__n_components=10, total=   1.1s\n",
      "[CV] clf__C=0.01, svd__n_components=10 ...............................\n",
      "[CV] ................ clf__C=0.01, svd__n_components=10, total=   1.4s\n",
      "[CV] clf__C=0.01, svd__n_components=10 ...............................\n",
      "[CV] ................ clf__C=0.01, svd__n_components=10, total=   1.5s\n",
      "[CV] clf__C=0.01, svd__n_components=10 ...............................\n",
      "[CV] ................ clf__C=0.01, svd__n_components=10, total=   1.3s\n",
      "[CV] clf__C=0.01, svd__n_components=100 ..............................\n",
      "[CV] ............... clf__C=0.01, svd__n_components=100, total=   8.9s\n",
      "[CV] clf__C=0.01, svd__n_components=100 ..............................\n",
      "[CV] ............... clf__C=0.01, svd__n_components=100, total=  10.4s\n",
      "[CV] clf__C=0.01, svd__n_components=100 ..............................\n",
      "[CV] ............... clf__C=0.01, svd__n_components=100, total=  11.5s\n",
      "[CV] clf__C=0.01, svd__n_components=100 ..............................\n",
      "[CV] ............... clf__C=0.01, svd__n_components=100, total=  10.9s\n",
      "[CV] clf__C=0.01, svd__n_components=100 ..............................\n",
      "[CV] ............... clf__C=0.01, svd__n_components=100, total=  12.2s\n",
      "[CV] clf__C=0.01, svd__n_components=500 ..............................\n",
      "[CV] ............... clf__C=0.01, svd__n_components=500, total= 1.2min\n",
      "[CV] clf__C=0.01, svd__n_components=500 ..............................\n",
      "[CV] ............... clf__C=0.01, svd__n_components=500, total= 1.1min\n",
      "[CV] clf__C=0.01, svd__n_components=500 ..............................\n",
      "[CV] ............... clf__C=0.01, svd__n_components=500, total= 1.1min\n",
      "[CV] clf__C=0.01, svd__n_components=500 ..............................\n",
      "[CV] ............... clf__C=0.01, svd__n_components=500, total= 1.0min\n",
      "[CV] clf__C=0.01, svd__n_components=500 ..............................\n",
      "[CV] ............... clf__C=0.01, svd__n_components=500, total= 1.1min\n",
      "[CV] clf__C=0.1, svd__n_components=10 ................................\n",
      "[CV] ................. clf__C=0.1, svd__n_components=10, total=   3.0s\n",
      "[CV] clf__C=0.1, svd__n_components=10 ................................\n",
      "[CV] ................. clf__C=0.1, svd__n_components=10, total=   1.5s\n",
      "[CV] clf__C=0.1, svd__n_components=10 ................................\n",
      "[CV] ................. clf__C=0.1, svd__n_components=10, total=   2.0s\n",
      "[CV] clf__C=0.1, svd__n_components=10 ................................\n",
      "[CV] ................. clf__C=0.1, svd__n_components=10, total=   1.7s\n",
      "[CV] clf__C=0.1, svd__n_components=10 ................................\n",
      "[CV] ................. clf__C=0.1, svd__n_components=10, total=   1.6s\n",
      "[CV] clf__C=0.1, svd__n_components=100 ...............................\n",
      "[CV] ................ clf__C=0.1, svd__n_components=100, total=  10.4s\n",
      "[CV] clf__C=0.1, svd__n_components=100 ...............................\n",
      "[CV] ................ clf__C=0.1, svd__n_components=100, total=  10.4s\n",
      "[CV] clf__C=0.1, svd__n_components=100 ...............................\n",
      "[CV] ................ clf__C=0.1, svd__n_components=100, total=  10.1s\n",
      "[CV] clf__C=0.1, svd__n_components=100 ...............................\n",
      "[CV] ................ clf__C=0.1, svd__n_components=100, total=  13.1s\n",
      "[CV] clf__C=0.1, svd__n_components=100 ...............................\n",
      "[CV] ................ clf__C=0.1, svd__n_components=100, total=  11.7s\n",
      "[CV] clf__C=0.1, svd__n_components=500 ...............................\n",
      "[CV] ................ clf__C=0.1, svd__n_components=500, total= 1.7min\n",
      "[CV] clf__C=0.1, svd__n_components=500 ...............................\n",
      "[CV] ................ clf__C=0.1, svd__n_components=500, total= 1.1min\n",
      "[CV] clf__C=0.1, svd__n_components=500 ...............................\n",
      "[CV] ................ clf__C=0.1, svd__n_components=500, total= 1.2min\n",
      "[CV] clf__C=0.1, svd__n_components=500 ...............................\n",
      "[CV] ................ clf__C=0.1, svd__n_components=500, total= 1.1min\n",
      "[CV] clf__C=0.1, svd__n_components=500 ...............................\n",
      "[CV] ................ clf__C=0.1, svd__n_components=500, total= 1.0min\n",
      "[CV] clf__C=1, svd__n_components=10 ..................................\n",
      "[CV] ................... clf__C=1, svd__n_components=10, total=   1.7s\n",
      "[CV] clf__C=1, svd__n_components=10 ..................................\n",
      "[CV] ................... clf__C=1, svd__n_components=10, total=   1.6s\n",
      "[CV] clf__C=1, svd__n_components=10 ..................................\n",
      "[CV] ................... clf__C=1, svd__n_components=10, total=   1.9s\n",
      "[CV] clf__C=1, svd__n_components=10 ..................................\n",
      "[CV] ................... clf__C=1, svd__n_components=10, total=   2.5s\n",
      "[CV] clf__C=1, svd__n_components=10 ..................................\n",
      "[CV] ................... clf__C=1, svd__n_components=10, total=   2.8s\n",
      "[CV] clf__C=1, svd__n_components=100 .................................\n",
      "[CV] .................. clf__C=1, svd__n_components=100, total=  11.4s\n",
      "[CV] clf__C=1, svd__n_components=100 .................................\n",
      "[CV] .................. clf__C=1, svd__n_components=100, total=  12.0s\n",
      "[CV] clf__C=1, svd__n_components=100 .................................\n",
      "[CV] .................. clf__C=1, svd__n_components=100, total=  15.8s\n",
      "[CV] clf__C=1, svd__n_components=100 .................................\n",
      "[CV] .................. clf__C=1, svd__n_components=100, total=  12.7s\n",
      "[CV] clf__C=1, svd__n_components=100 .................................\n",
      "[CV] .................. clf__C=1, svd__n_components=100, total=  12.8s\n",
      "[CV] clf__C=1, svd__n_components=500 .................................\n",
      "[CV] .................. clf__C=1, svd__n_components=500, total= 1.2min\n",
      "[CV] clf__C=1, svd__n_components=500 .................................\n",
      "[CV] .................. clf__C=1, svd__n_components=500, total= 1.1min\n",
      "[CV] clf__C=1, svd__n_components=500 .................................\n",
      "[CV] .................. clf__C=1, svd__n_components=500, total= 1.0min\n",
      "[CV] clf__C=1, svd__n_components=500 .................................\n",
      "[CV] .................. clf__C=1, svd__n_components=500, total= 1.0min\n",
      "[CV] clf__C=1, svd__n_components=500 .................................\n",
      "[CV] .................. clf__C=1, svd__n_components=500, total= 1.1min\n",
      "[CV] clf__C=10, svd__n_components=10 .................................\n",
      "[CV] .................. clf__C=10, svd__n_components=10, total=   3.2s\n",
      "[CV] clf__C=10, svd__n_components=10 .................................\n",
      "[CV] .................. clf__C=10, svd__n_components=10, total=   2.0s\n",
      "[CV] clf__C=10, svd__n_components=10 .................................\n",
      "[CV] .................. clf__C=10, svd__n_components=10, total=   2.4s\n",
      "[CV] clf__C=10, svd__n_components=10 .................................\n",
      "[CV] .................. clf__C=10, svd__n_components=10, total=   3.1s\n",
      "[CV] clf__C=10, svd__n_components=10 .................................\n",
      "[CV] .................. clf__C=10, svd__n_components=10, total=   2.9s\n",
      "[CV] clf__C=10, svd__n_components=100 ................................\n",
      "[CV] ................. clf__C=10, svd__n_components=100, total=  11.6s\n",
      "[CV] clf__C=10, svd__n_components=100 ................................\n",
      "[CV] ................. clf__C=10, svd__n_components=100, total=  12.7s\n",
      "[CV] clf__C=10, svd__n_components=100 ................................\n",
      "[CV] ................. clf__C=10, svd__n_components=100, total=  10.5s\n",
      "[CV] clf__C=10, svd__n_components=100 ................................\n",
      "[CV] ................. clf__C=10, svd__n_components=100, total=  12.5s\n",
      "[CV] clf__C=10, svd__n_components=100 ................................\n",
      "[CV] ................. clf__C=10, svd__n_components=100, total=  12.2s\n",
      "[CV] clf__C=10, svd__n_components=500 ................................\n",
      "[CV] ................. clf__C=10, svd__n_components=500, total= 1.4min\n",
      "[CV] clf__C=10, svd__n_components=500 ................................\n",
      "[CV] ................. clf__C=10, svd__n_components=500, total= 1.0min\n",
      "[CV] clf__C=10, svd__n_components=500 ................................\n",
      "[CV] ................. clf__C=10, svd__n_components=500, total= 1.0min\n",
      "[CV] clf__C=10, svd__n_components=500 ................................\n",
      "[CV] ................. clf__C=10, svd__n_components=500, total=  56.1s\n",
      "[CV] clf__C=10, svd__n_components=500 ................................\n",
      "[CV] ................. clf__C=10, svd__n_components=500, total= 1.0min\n"
     ]
    },
    {
     "name": "stderr",
     "output_type": "stream",
     "text": [
      "[Parallel(n_jobs=1)]: Done  60 out of  60 | elapsed: 26.9min finished\n"
     ]
    },
    {
     "name": "stdout",
     "output_type": "stream",
     "text": [
      "Best parameters: {'clf__C': 10, 'svd__n_components': 100}\n",
      "Best CV score: 0.695526154807192\n",
      "                                        params  mean_test_score\n",
      "10    {'clf__C': 10, 'svd__n_components': 100}         0.695526\n",
      "7      {'clf__C': 1, 'svd__n_components': 100}         0.693556\n",
      "8      {'clf__C': 1, 'svd__n_components': 500}         0.688566\n",
      "11    {'clf__C': 10, 'svd__n_components': 500}         0.678584\n",
      "9      {'clf__C': 10, 'svd__n_components': 10}         0.656777\n",
      "6       {'clf__C': 1, 'svd__n_components': 10}         0.648107\n",
      "5    {'clf__C': 0.1, 'svd__n_components': 500}         0.647711\n",
      "4    {'clf__C': 0.1, 'svd__n_components': 100}         0.637333\n",
      "3     {'clf__C': 0.1, 'svd__n_components': 10}         0.590438\n",
      "0    {'clf__C': 0.01, 'svd__n_components': 10}         0.570340\n",
      "1   {'clf__C': 0.01, 'svd__n_components': 100}         0.570340\n",
      "2   {'clf__C': 0.01, 'svd__n_components': 500}         0.570340\n"
     ]
    }
   ],
   "source": [
    "\n",
    "pipeline = Pipeline([\n",
    "    ('svd', TruncatedSVD(random_state=50)),\n",
    "    ('clf', LogisticRegression(max_iter=1000))\n",
    "])\n",
    "\n",
    "param_grid = {\n",
    "    'svd__n_components': [10, 100, 500],\n",
    "    'clf__C': [0.01, 0.1, 1, 10]\n",
    "}\n",
    "\n",
    "grid_search = GridSearchCV(pipeline, param_grid, cv=5, scoring='accuracy', verbose=2)\n",
    "grid_search.fit(X_tfidf, train['target'])\n",
    "\n",
    "print(\"Best parameters:\", grid_search.best_params_)\n",
    "print(\"Best CV score:\", grid_search.best_score_)\n",
    "\n",
    "import pandas as pd\n",
    "results_df = pd.DataFrame(grid_search.cv_results_)\n",
    "print(results_df[['params', 'mean_test_score']].sort_values(by='mean_test_score', ascending=False))\n",
    "\n",
    "\n",
    "    "
   ]
  },
  {
   "cell_type": "markdown",
   "metadata": {},
   "source": [
    "Now some predictions"
   ]
  },
  {
   "cell_type": "code",
   "execution_count": 26,
   "metadata": {},
   "outputs": [
    {
     "data": {
      "image/png": "[encoded data removed]",
      "text/plain": [
       "<Figure size 576x432 with 2 Axes>"
      ]
     },
     "metadata": {
      "needs_background": "light"
     },
     "output_type": "display_data"
    },
    {
     "name": "stdout",
     "output_type": "stream",
     "text": [
      "[1 1 1 ... 1 1 1]\n"
     ]
    }
   ],
   "source": [
    "best_model = grid_search.best_estimator_\n",
    "\n",
    "\n",
    "y_train_pred = best_model.predict(X_tfidf)\n",
    "conf_mat = confusion_matrix(true_train_labels, y_train_pred)\n",
    "\n",
    "row_ind, col_ind = linear_sum_assignment(-conf_mat)\n",
    "conf_mat_aligned = conf_mat[:, col_ind]\n",
    "\n",
    "plt.figure(figsize=(8, 6))\n",
    "sns.heatmap(conf_mat_aligned, annot=True, fmt='d', cmap='Blues',\n",
    "            xticklabels=[f\"{i}\" for i in col_ind])\n",
    "plt.xlabel(\"Inferred Disaters\")\n",
    "plt.ylabel(\"True Disasters\")\n",
    "plt.title(\"Confusion Matrix: Tweets - disaster or not?\")\n",
    "plt.tight_layout()\n",
    "plt.show()\n",
    "\n",
    "\n",
    "print(y_train_pred)\n"
   ]
  },
  {
   "cell_type": "code",
   "execution_count": 27,
   "metadata": {},
   "outputs": [],
   "source": [
    "y_test_pred = best_model.predict(X_test_tfidf)\n",
    "\n",
    "test_submission = pd.DataFrame({\n",
    "    'id': test['id'],\n",
    "    'target': y_test_pred\n",
    "})\n",
    "\n",
    "test_submission.to_csv('svd_test_predictions.csv', index=False)"
   ]
  },
  {
   "cell_type": "markdown",
   "metadata": {},
   "source": [
    "#### Truncated SVD and Logistic Regression - Conclusion\n",
    "\n",
    "This approach gave an F1 score of 76% in test data which appears to be decent amongst peers on Kaggle. The increase in SVD components, especially with 5 fold gridsearch really slows down the modelling. \n",
    "\n",
    "I will try manual grid search this time with a purely unsupervised approach."
   ]
  },
  {
   "cell_type": "markdown",
   "metadata": {},
   "source": [
    "#### NMF and Clustering\n",
    "\n",
    "NMF is a powerful method of reducing the dimensionality of the word martrix. I paired this with Clustering which may work as a purely unsupervised approach for binary classification. \n",
    "\n",
    "Grid Search was chosen to optimize my hyperparameters and I also chose to exclude vectorization from the pipeline as we did not need to re vectorize each iteration in gridsearch. "
   ]
  },
  {
   "cell_type": "code",
   "execution_count": 29,
   "metadata": {},
   "outputs": [
    {
     "name": "stdout",
     "output_type": "stream",
     "text": [
      "['frobenius', 'cd', 2]\n",
      "['frobenius', 'mu', 2]\n",
      "['kullback-leibler', 'mu', 2]\n",
      "['frobenius', 'cd', 5]\n",
      "['frobenius', 'mu', 5]\n",
      "['kullback-leibler', 'mu', 5]\n",
      "['frobenius', 'cd', 25]\n",
      "['frobenius', 'mu', 25]\n",
      "['kullback-leibler', 'mu', 25]\n",
      "['frobenius', 'cd', 50]\n",
      "['frobenius', 'mu', 50]\n",
      "['kullback-leibler', 'mu', 50]\n"
     ]
    }
   ],
   "source": [
    "feature_combos = [['frobenius', 'cd', 2], ['frobenius', 'mu', 2], ['kullback-leibler', 'mu', 2],\n",
    "                  ['frobenius', 'cd', 5], ['frobenius', 'mu', 5], ['kullback-leibler', 'mu', 5],\n",
    "                  ['frobenius', 'cd', 25], ['frobenius', 'mu', 25], ['kullback-leibler', 'mu', 25],\n",
    "                 ['frobenius', 'cd', 50], ['frobenius', 'mu', 50], ['kullback-leibler', 'mu', 50]\n",
    "                 ]\n",
    "beta_loss, solver, n_components = zip(*feature_combos)\n",
    "   \n",
    "ari_train = []\n",
    "acc_train = []\n",
    "\n",
    "best_acc_train = 0\n",
    "best_model = None\n",
    "best_kmeans = None\n",
    "best_config = None\n",
    "best_aligned_train_clusters = None\n",
    "\n",
    "for n in feature_combos:\n",
    "    print(n)\n",
    "    nmf = NMF(n_components=n[2], random_state=50, solver=n[1], beta_loss = n[0])\n",
    "    W = nmf.fit_transform(X_tfidf)\n",
    "\n",
    "    kmeans = KMeans(n_clusters=2, random_state=50)\n",
    "    cluster_labels = kmeans.fit_predict(W)\n",
    "\n",
    "    conf_mat = confusion_matrix(true_train_labels, cluster_labels)\n",
    "\n",
    "    row_ind, col_ind = linear_sum_assignment(-conf_mat)\n",
    "    aligned_clusters = np.zeros_like(cluster_labels)\n",
    "    for i, j in zip(row_ind, col_ind):\n",
    "        aligned_clusters[cluster_labels == i] = j\n",
    "    \n",
    "    nmf_optimal_accuracy = (aligned_clusters == true_train_labels).mean()\n",
    "    ari_nmf = adjusted_rand_score(true_train_labels, cluster_labels)\n",
    "    \n",
    "    ari_train.append(ari_nmf)\n",
    "    acc_train.append(nmf_optimal_accuracy)\n",
    "    \n",
    "    if nmf_optimal_accuracy > best_acc_train:\n",
    "        best_acc_train = nmf_optimal_accuracy\n",
    "        best_model_nmf = nmf\n",
    "        best_kmeans = kmeans\n",
    "        best_config = (n[0], n[1], n[2])\n",
    "        best_aligned_train_clusters = aligned_clusters\n",
    "        \n",
    "\n",
    "\n"
   ]
  },
  {
   "cell_type": "code",
   "execution_count": 30,
   "metadata": {},
   "outputs": [
    {
     "name": "stdout",
     "output_type": "stream",
     "text": [
      "[0.5812426113227375, 0.5812426113227375, 0.6163141993957704, 0.5734927098384343, 0.5734927098384343, 0.6167082621831078, 0.5734927098384343, 0.5734927098384343, 0.5704715618021805, 0.5734927098384343, 0.5734927098384343, 0.570865624589518]\n"
     ]
    },
    {
     "data": {
      "image/png": "[encoded data removed]",
      "text/plain": [
       "<Figure size 576x432 with 2 Axes>"
      ]
     },
     "metadata": {
      "needs_background": "light"
     },
     "output_type": "display_data"
    }
   ],
   "source": [
    "conf_mat_aligned_train = confusion_matrix(true_train_labels, best_aligned_train_clusters)    \n",
    "\n",
    "print(acc_train)\n",
    "\n",
    "plt.figure(figsize=(8, 6))\n",
    "sns.heatmap(conf_mat_aligned_train, annot=True, fmt='d', cmap='Blues',\n",
    "            xticklabels=[f\"Topic {i}\" for i in col_ind])\n",
    "plt.xlabel(\"Inferred Topics\")\n",
    "plt.ylabel(\"True Genres\")\n",
    "plt.title(\"Confusion Matrix: NMF Topics vs Genre Labels\")\n",
    "plt.tight_layout()\n",
    "plt.show()\n",
    "\n"
   ]
  },
  {
   "cell_type": "code",
   "execution_count": 33,
   "metadata": {},
   "outputs": [
    {
     "name": "stdout",
     "output_type": "stream",
     "text": [
      "[0 0 0 ... 0 1 1]\n"
     ]
    }
   ],
   "source": [
    "W_test = best_model_nmf.transform(X_test_tfidf)\n",
    "test_cluster_labels = best_kmeans.predict(W_test)\n",
    "\n",
    "print(test_cluster_labels)\n",
    "test_submission_nmf = pd.DataFrame({\n",
    "    'id': test['id'],\n",
    "    'target': test_cluster_labels\n",
    "})\n",
    "\n",
    "test_submission_nmf.to_csv('nmf_test_predictions.csv', index=False)\n"
   ]
  },
  {
   "cell_type": "markdown",
   "metadata": {},
   "source": [
    "#### Non Negative Matrix Factorization and K-Means  - Conclusion\n",
    "\n",
    "This approach was considerably quicker for model generation than my first approach. However, its score of 60% in test data which is considerably worse than my initial approach.  \n",
    "\n",
    "This shows the limitations of a purely unsupervised approach for a binary prediction model. The K-means approach attempted to divide the tweets in two as cleanly as possible. That does not mean that it divided the tweets into disaster and not disaster tweets. "
   ]
  },
  {
   "cell_type": "markdown",
   "metadata": {},
   "source": [
    "### Overall Conclusion\n",
    "\n",
    "Unsupervised Learning techniques are very powerful, they can tell us new things about our data and simplify it. For a specific Binary classification task though, it is better used in conjunction with a supervised approach which targets the precise breakdown required.  "
   ]
  }
 ],
 "metadata": {
  "kernelspec": {
   "display_name": "Python 3",
   "language": "python",
   "name": "python3"
  },
  "language_info": {
   "codemirror_mode": {
    "name": "ipython",
    "version": 3
   },
   "file_extension": ".py",
   "mimetype": "text/x-python",
   "name": "python",
   "nbconvert_exporter": "python",
   "pygments_lexer": "ipython3",
   "version": "3.7.6"
  }
 },
 "nbformat": 4,
 "nbformat_minor": 4
}
